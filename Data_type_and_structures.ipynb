{
  "nbformat": 4,
  "nbformat_minor": 0,
  "metadata": {
    "colab": {
      "provenance": []
    },
    "kernelspec": {
      "name": "python3",
      "display_name": "Python 3"
    },
    "language_info": {
      "name": "python"
    }
  },
  "cells": [
    {
      "cell_type": "code",
      "source": [
        "DATA TYPE AND STRUCTURES ANSWERS :"
      ],
      "metadata": {
        "id": "IgMHq-GqfXV3"
      },
      "execution_count": null,
      "outputs": []
    },
    {
      "cell_type": "markdown",
      "source": [
        "                          THEORY ANSWERS :\n",
        "\n",
        "1. What are data structures, and why are they important?\n",
        "  - Data structures are specific formats for storing data in a computer's memory, enabling effecient access, manipulation and retrieval.They are crucial for programming because they provide the foundation for designing algorithms, optimizing code performance, and effectively solving problems.\n",
        "    - Importance: Problem- solving, effeciency, scalability, algorithm design and code optimization.\n",
        "\n",
        "\n",
        "2. Explain the difference between mutable and immutable data types with examples?\n",
        "   - Mutable data types are those whose values or content can be modified after they have been initialized. When you modify a mutable object, you are changing the object in place, without creating a new object in memory.\n",
        "    - Examples:\n",
        "    - Lists (in Python): You can add, remove, or change elements within a list after it's created.\n",
        "    - Dictionaries (in Python): You can add, remove, or modify key-value pairs in a dictionary.\n",
        "  - Immutable Data Types:\n",
        "Immutable data types are those whose values or content cannot be altered once they have been created. If you attempt to \"modify\" an immutable object, a new object with the desired changes is created in memory, and the variable referencing it is then updated to point to this new object. The original object remains unchanged.\n",
        "    - Examples:\n",
        "    - Strings (in Python): You cannot change individual characters within a string. Operations that appear to modify a string actually create a new string.\n",
        "    - Tuples (in Python): Once a tuple is created, its elements cannot be changed, added, or removed.\n",
        "\n",
        "3. What are the main differences between lists and tuples in Python?\n",
        "  - The main differences between lists and tuples in Python 3 are centered around their mutability.\n",
        "    - Mutability: This is the most significant difference. Lists are mutable, meaning their elements can be changed (added, removed, or modified) after creation. Tuples are immutable, meaning their elements cannot be altered once the tuple is created.\n",
        "\n",
        "4. Describe how dictionaries store data?\n",
        "  - Dictionary is a data structure that stores data as a key value pair. Keys are unique and immutable. Dictionaries are unordered but from python 3.7 version, dictionaries retain the order of intersection.\n",
        "  - Here's how dictionaries stores data:\n",
        "    - Key-Value Pairs:\n",
        "Each piece of data in a dictionary consists of two parts: a unique key and its corresponding value.\n",
        "    - Hashing:\n",
        "When a key-value pair is added to a dictionary, the key is typically passed through a hash function. This function converts the key into a numerical hash value or hash code. This hash code determines where the key-value pair will be stored in memory.\n",
        "    - Retrieval:\n",
        "To retrieve a value, the key is again passed through the same hash function to generate its hash value. This hash value directs the dictionary to the correct location in the hash table to find the corresponding value.\n",
        "\n",
        "5. Why might you use a set instead of a list in Python?\n",
        "  - Sets take up a bit more memory than lists, and they aren't ordered the same way that lists are. But unlike lists, sets are always fast at: adding items, removing items, and checking whether an item is contained within a set.\n",
        "  - We might use a Python set instead of a list in the following scenarios:\n",
        "    - Fast membership testing.\n",
        "    - Mathmatical set operations.\n",
        "    - When order isn't important.\n",
        "\n",
        "6. What is a string in Python, and how is it different from a list?\n",
        "  - In Python, a string is an immutable sequence of characters, used to represent text. Strings are enclosed in single quotes, double quotes or triple quotes.\n",
        "  - A list is a mutable, ordered sequence of items. Unlike strings, lists can contain items of different data types (e.g., numbers, strings, or even other lists). Lists are defined using square brackets with elements seprated by commas.\n",
        "  - The key differences between strings and lists are:\n",
        "    - Mutability- Strings are immutable but lists are mutable.\n",
        "    - Data type of elements- Strings exclusively contain characters.   Lists can contain elements of any data type.\n",
        "    - Representation- Strings are enclosed in quotes. Lists are enclosed in square brackets.\n",
        "\n",
        "7. How do tuples ensure data integrity in Python?\n",
        "  - Tuples in Python ensure data integrity primarily through their immutability. This characteristic means that once a tuple is created, its elements cannot be changed, added, or removed. This immutability directly contributes to data integrity in the following ways:\n",
        "    - Protection Against Accidental Modification.\n",
        "    - Hashability for Dictionary Keys and Set Elements.\n",
        "    \n",
        "8. What is a hash table, and how does it relate to dictionaries in Python?\n",
        "  - A hash table is a data structure that implements an associative array or dictionary, which maps keys to values. It uses a hash function to compute an index into an array of buckets or slots, from which the desired value can be found. The goal is to provide fast average-case time complexity for operations like insertion, deletion, and retrieval.\n",
        "  - How it relatesto dictionaries in python:\n",
        "     - Key value pairs.\n",
        "     - Hashing.\n",
        "     - Fast lookups.\n",
        "     - Hashable keys.\n",
        "\n",
        "9. Can lists contain different data types in Python?\n",
        "  - Yes, Python lists can contain elements of different data types. This is a key feature of Python's flexibility and makes lists a highly versatile data structure.\n",
        "For example, a single Python list can hold integers, strings, floats, booleans, and even other complex data structures like nested lists, tuples, or dictionaries, all within the same list.\n",
        "\n",
        "10.  Explain why strings are immutable in Python?\n",
        "  - Strings are immutable in Python, meaning their content cannot be changed after they are created. Any operation that appears to modify a string actually results in the creation of a new string object in memory.\n",
        "      - In Python, if the value of an object cannot be changed over time, then it is known as immutable. Once created, the value of these objects is permanent.\n",
        "\n",
        "11. What advantages do dictionaries offer over lists for certain tasks?\n",
        "  - Dictionaries excel in scenarios requiring fast lookups, key-value associations, and complex data mappings, while lists are ideal for ordered collections, sequential processing, and simple data storage.\n",
        "  \n",
        "12. Describe a scenario where using a tuple would be preferable over a list?\n",
        "  - using a tuple would be preferable over a list is when representing a collection of related, heterogeneous data that should remain constant throughout the program's execution, such as a record or a fixed set of coordinates.\n",
        "      - For example, consider storing geographical coordinates (latitude, longitude, altitude). This data represents a specific point in space, and its components are distinct but intrinsically linked. Furthermore, these coordinates are typically fixed and should not be modified once defined.\n",
        "\n",
        "13.  How do sets handle duplicate values in Python?\n",
        "  - Python's built-in set data structure inherently handles duplicate values by ensuring that each element within a set is unique. Sets are designed to store only distinct elements.\n",
        "When attempting to add a value that already exists within a set, the set simply ignores the new addition. This means that if you initialize a set with duplicate values or try to add a duplicate value using the add() method, the set will only retain one instance of that value.\n",
        "\n",
        "14. How does the “in” keyword work differently for lists and dictionaries?\n",
        "  - The in keyword in Python functions differently when used with lists compared to dictionaries due to their underlying data structures and how membership is defined.\n",
        "     - For Dictionaries: When in is used with a dictionary, it checks for the presence of a specific key within the dictionary. It does not directly check for values. Dictionaries are implemented using hash tables, which allows for very efficient lookups.\n",
        "     - For Lists: When in is used with a list, it checks for the presence of a specific element within the list. The operation involves iterating through the list, comparing each element to the target value until a match is found or the end of the list is reached. This is a linear search, and in the worst-case scenario, it requires checking every element in the list.\n",
        "\n",
        "15. Can you modify the elements of a tuple? Explain why or why not?\n",
        "  - No, the elements of a tuple cannot be modified directly after its creation. Tuples are immutable data structures in Python, which means their state cannot be changed once they are defined.\n",
        "     \n",
        "16. What is a nested dictionary, and give an example of its use case?\n",
        "  - A nested dictionary is a dictionary in which the values associated with some keys are themselves other dictionaries. This structure allows for the representation of hierarchical or complex data, where information can be organized in a multi-layered fashion.\n",
        "  - Example Use Case:\n",
        "      - Storing Employee Information\n",
        "A common use case for nested dictionaries is to store and manage structured data, such as records for multiple entities with various attributes. Consider a scenario where you need to store information about multiple employees in a company. Each employee has a unique ID, and for each employee, you want to store their name, department, and salary.\n",
        "\n",
        "17. Describe the time complexity of accessing elements in a dictionary?\n",
        "  - Accessing elements in a dictionary, particularly in implementations like Python's built-in dict which uses hash tables, typically has an average time complexity of O(1), also known as constant time. This means that, on average, the time it takes to retrieve a value associated with a key does not significantly increase as the size of the dictionary grows.\n",
        "\n",
        "18. In what situations are lists preferred over dictionaries?\n",
        "  - Lists are preferred over dictionaries in situations where:\n",
        "     - Duplicate elements are allowed and relevant.\n",
        "     - Simple, ordered collections are sufficient.\n",
        "     - Data represents a fixed-size sequence.\n",
        "     - Elements are accessed by numerical index.\n",
        "\n",
        "19. Why are dictionaries considered unordered, and how does that affect data retrieval?\n",
        "  - Dictionaries are considered unordered because they don't store items in a specific sequence based on insertion order or any other predefined order. They are optimized for fast key-based lookups. This means you can't rely on the order in which you added items to a dictionary when retrieving them.\n",
        "  - Why are dictionaries unordered:\n",
        "        - Key-value pairs.\n",
        "        - Hash table.\n",
        "        - No implicit indexing.\n",
        "     \n",
        "20.  Explain the difference between a list and a dictionary in terms of data retrieval?\n",
        "  - The fundamental difference between a list and a dictionary, in terms of data retrieval, lies in their underlying structure and how elements are identified and accessed.\n",
        "  - Lists:\n",
        "       - Ordered collection.\n",
        "       - Index based retrieval.\n",
        "       - Sequential Search (for value-based retrieval)\n",
        "  - Dictionaries:\n",
        "       - Key-value pairs.\n",
        "       - Key-value retrievals.\n",
        "       - Hash-based lookups.\n",
        "  - In summary:\n",
        "       - Lists: prioritize order and allow retrieval by numerical index.\n",
        "       - Dictionaries: prioritize associating data with descriptive keys and offer efficient retrieval based on these keys.\n",
        "\n",
        "       "
      ],
      "metadata": {
        "id": "SNY0X3bhfTjf"
      }
    },
    {
      "cell_type": "markdown",
      "source": [
        "                         ***    PRACTICAL ANSWERS :***"
      ],
      "metadata": {
        "id": "6c2vv6ZE4Upk"
      }
    },
    {
      "cell_type": "code",
      "source": [
        "#1. Write a code to create a string with your name and print it.\n",
        "\n",
        "name = \"Saaransh\"\n",
        "print(name)"
      ],
      "metadata": {
        "colab": {
          "base_uri": "https://localhost:8080/"
        },
        "id": "QNXUYbyq0j-p",
        "outputId": "026952a6-7017-4475-dbdb-412cc1dce7e4"
      },
      "execution_count": 6,
      "outputs": [
        {
          "output_type": "stream",
          "name": "stdout",
          "text": [
            "Saaransh\n"
          ]
        }
      ]
    },
    {
      "cell_type": "code",
      "source": [
        "#2. Write a code to find the length of the string \"Hello World\"\n",
        "\n",
        "my_string = \"Hello World\"\n",
        "string_length = len(my_string)\n",
        "print(f\"The length of the string '{my_string}' is: {string_length}\")"
      ],
      "metadata": {
        "colab": {
          "base_uri": "https://localhost:8080/"
        },
        "id": "FObfLErP5nW5",
        "outputId": "94e0d08b-7d49-4620-f2bc-e99846f79941"
      },
      "execution_count": 15,
      "outputs": [
        {
          "output_type": "stream",
          "name": "stdout",
          "text": [
            "The length of the string 'Hello World' is: 11\n"
          ]
        }
      ]
    },
    {
      "cell_type": "code",
      "source": [
        "#3. Write a code to slice the first 3 characters from the string \"Python Programming\"\n",
        "\n",
        "original_string = \"Python Programming\"\n",
        "sliced_string = original_string[:3]\n",
        "print(sliced_string)"
      ],
      "metadata": {
        "colab": {
          "base_uri": "https://localhost:8080/"
        },
        "id": "5MovMx7b7brf",
        "outputId": "e4979c13-d077-475e-aa52-5a2773dfd4b4"
      },
      "execution_count": 17,
      "outputs": [
        {
          "output_type": "stream",
          "name": "stdout",
          "text": [
            "Pyt\n"
          ]
        }
      ]
    },
    {
      "cell_type": "code",
      "source": [
        "#4. Write a code to convert the string \"hello\" to uppercase.\n",
        "\n",
        "text = \"hello\"\n",
        "uppercase_string = text.upper()\n",
        "print(uppercase_string)"
      ],
      "metadata": {
        "colab": {
          "base_uri": "https://localhost:8080/"
        },
        "id": "O3reV9QR7uCn",
        "outputId": "1f03e454-7dbb-4fe1-e6d8-b785919f5956"
      },
      "execution_count": 19,
      "outputs": [
        {
          "output_type": "stream",
          "name": "stdout",
          "text": [
            "HELLO\n"
          ]
        }
      ]
    },
    {
      "cell_type": "code",
      "source": [
        "#5. Write a code to replace the word \"apple\" with \"orange\" in the string \"I like apple\"\n",
        "\n",
        "original_string = \"I like apple\"\n",
        "new_string = original_string.replace(\"apple\", \"orange\")\n",
        "print(new_string)"
      ],
      "metadata": {
        "colab": {
          "base_uri": "https://localhost:8080/"
        },
        "id": "DC1mHEk68Osg",
        "outputId": "7f51ac48-317d-4946-d937-8847943f7e98"
      },
      "execution_count": 21,
      "outputs": [
        {
          "output_type": "stream",
          "name": "stdout",
          "text": [
            "I like orange\n"
          ]
        }
      ]
    },
    {
      "cell_type": "code",
      "source": [
        "#6. Write a code to create a list with numbers 1 to 5 and print it.\n",
        "\n",
        "my_list = [1, 2, 3, 4, 5]\n",
        "print(my_list)"
      ],
      "metadata": {
        "colab": {
          "base_uri": "https://localhost:8080/"
        },
        "id": "So525_cl8gZr",
        "outputId": "f9b22f6c-c9ff-4c3d-cfb2-126ec830539c"
      },
      "execution_count": 25,
      "outputs": [
        {
          "output_type": "stream",
          "name": "stdout",
          "text": [
            "[1, 2, 3, 4, 5]\n"
          ]
        }
      ]
    },
    {
      "cell_type": "code",
      "source": [
        "#7. Write a code to append the number 10 to the list [1, 2, 3, 4]\n",
        "\n",
        "my_list = [1,2,3,4]\n",
        "my_list.append(10)\n",
        "print(my_list)"
      ],
      "metadata": {
        "colab": {
          "base_uri": "https://localhost:8080/"
        },
        "id": "tvtJ5hwZ89MA",
        "outputId": "85964efa-cba0-438c-ee74-416c083c70cf"
      },
      "execution_count": 27,
      "outputs": [
        {
          "output_type": "stream",
          "name": "stdout",
          "text": [
            "[1, 2, 3, 4, 10]\n"
          ]
        }
      ]
    },
    {
      "cell_type": "code",
      "source": [
        "#8. Write a code to remove the number 3 from the list [1, 2, 3, 4, 5]\n",
        "\n",
        "my_list = [1,2,3,4,5]\n",
        "my_list.remove(3)\n",
        "print(my_list)"
      ],
      "metadata": {
        "colab": {
          "base_uri": "https://localhost:8080/"
        },
        "id": "y75Y-g5g9hL1",
        "outputId": "1cd1227d-e3af-41a5-f58c-8a5944fd3372"
      },
      "execution_count": 29,
      "outputs": [
        {
          "output_type": "stream",
          "name": "stdout",
          "text": [
            "[1, 2, 4, 5]\n"
          ]
        }
      ]
    },
    {
      "cell_type": "code",
      "source": [
        "#9. Write a code to access the second element in the list ['a', 'b', 'c', 'd']\n",
        "\n",
        "my_list = ['a', 'b', 'c', 'd']\n",
        "print(my_list[2])\n"
      ],
      "metadata": {
        "colab": {
          "base_uri": "https://localhost:8080/"
        },
        "id": "KKDxKXi09pay",
        "outputId": "0093ddb6-afd3-4929-f97a-4ca4a133aca4"
      },
      "execution_count": 34,
      "outputs": [
        {
          "output_type": "stream",
          "name": "stdout",
          "text": [
            "c\n"
          ]
        }
      ]
    },
    {
      "cell_type": "code",
      "source": [
        "#10. Write a code to reverse the list [10, 20, 30, 40, 50]\n",
        "\n",
        "my_list = [10,20,30,40,50]\n",
        "my_list.reverse()\n",
        "print(my_list)"
      ],
      "metadata": {
        "colab": {
          "base_uri": "https://localhost:8080/"
        },
        "id": "e_0i4clL-ELj",
        "outputId": "77e433e0-aecc-4d38-aeae-502e63b4fa0e"
      },
      "execution_count": 36,
      "outputs": [
        {
          "output_type": "stream",
          "name": "stdout",
          "text": [
            "[50, 40, 30, 20, 10]\n"
          ]
        }
      ]
    },
    {
      "cell_type": "code",
      "source": [
        "#11. Write a code to create a tuple with the elements 100, 200, 300 and print it.\n",
        "\n",
        "my_tuple = (100,200,300)\n",
        "print(my_tuple)"
      ],
      "metadata": {
        "colab": {
          "base_uri": "https://localhost:8080/"
        },
        "id": "5sxBquDN-TuE",
        "outputId": "806dfab7-710a-45b0-a884-976eca13d073"
      },
      "execution_count": 38,
      "outputs": [
        {
          "output_type": "stream",
          "name": "stdout",
          "text": [
            "(100, 200, 300)\n"
          ]
        }
      ]
    },
    {
      "cell_type": "code",
      "source": [
        "#12. Write a code to access the second-to-last element of the tuple ('red', 'green', 'blue', 'yellow').\n",
        "\n",
        "my_tuple = ('red', 'green', 'blue', 'yellow')\n",
        "print(my_tuple[-2])"
      ],
      "metadata": {
        "colab": {
          "base_uri": "https://localhost:8080/"
        },
        "id": "e3YiedpP-faX",
        "outputId": "ca4000c6-ad8e-4dde-fd81-8f73df117683"
      },
      "execution_count": 40,
      "outputs": [
        {
          "output_type": "stream",
          "name": "stdout",
          "text": [
            "blue\n"
          ]
        }
      ]
    },
    {
      "cell_type": "code",
      "source": [
        "#13. Write a code to find the minimum number in the tuple (10, 20, 5, 15)\n",
        "\n",
        "my_tuple = (10,20,5,15)\n",
        "print(min(my_tuple))"
      ],
      "metadata": {
        "colab": {
          "base_uri": "https://localhost:8080/"
        },
        "id": "12C_Slf0-pC9",
        "outputId": "5b8e9a63-fc0e-4ba2-b3a8-b47eb8f07e06"
      },
      "execution_count": 42,
      "outputs": [
        {
          "output_type": "stream",
          "name": "stdout",
          "text": [
            "5\n"
          ]
        }
      ]
    },
    {
      "cell_type": "code",
      "source": [
        "#14. Write a code to find the index of the element \"cat\" in the tuple ('dog', 'cat', 'rabbit')\n",
        "\n",
        "my_tuple = ('dog', 'cat', 'rabbit')\n",
        "print(my_tuple.index('cat'))"
      ],
      "metadata": {
        "colab": {
          "base_uri": "https://localhost:8080/"
        },
        "id": "eIWYH61y-whs",
        "outputId": "dab09110-b01e-4567-c0a8-8c2be9d4414c"
      },
      "execution_count": 46,
      "outputs": [
        {
          "output_type": "stream",
          "name": "stdout",
          "text": [
            "1\n"
          ]
        }
      ]
    },
    {
      "cell_type": "code",
      "source": [
        "#15. Write a code to create a tuple containing three different fruits and check if \"kiwi\" is in it.\n",
        "\n",
        "fruits = (\"apple\", \"banana\", \"orange\")\n",
        "if \"kiwi\" in fruits:\n",
        "    print(\"Kiwi is in the tuple.\")\n",
        "else:\n",
        "    print(\"Kiwi is not in the tuple.\")"
      ],
      "metadata": {
        "colab": {
          "base_uri": "https://localhost:8080/"
        },
        "id": "c3JQpabD_DcS",
        "outputId": "cbfe6d35-cc7e-428a-aee4-746288600874"
      },
      "execution_count": 48,
      "outputs": [
        {
          "output_type": "stream",
          "name": "stdout",
          "text": [
            "Kiwi is not in the tuple.\n"
          ]
        }
      ]
    },
    {
      "cell_type": "code",
      "source": [
        "#16. Write a code to create a set with the elements 'a', 'b', 'c' and print it.\n",
        "\n",
        "my_set = {'a', 'b', 'c'}\n",
        "print(my_set)"
      ],
      "metadata": {
        "colab": {
          "base_uri": "https://localhost:8080/"
        },
        "id": "Wwkvvcce_O_S",
        "outputId": "bb9def51-bfad-4a22-c17f-8f2745b4607c"
      },
      "execution_count": 50,
      "outputs": [
        {
          "output_type": "stream",
          "name": "stdout",
          "text": [
            "{'b', 'c', 'a'}\n"
          ]
        }
      ]
    },
    {
      "cell_type": "code",
      "source": [
        "#17. Write a code to clear all elements from the set {1, 2, 3, 4, 5}.\n",
        "\n",
        "my_set = {1,2,3,4,5}\n",
        "my_set.clear()\n",
        "print(my_set)"
      ],
      "metadata": {
        "colab": {
          "base_uri": "https://localhost:8080/"
        },
        "id": "08Q-ipfm_s1f",
        "outputId": "d6ca9d63-320b-4920-bdef-9dca1d52ea3c"
      },
      "execution_count": 52,
      "outputs": [
        {
          "output_type": "stream",
          "name": "stdout",
          "text": [
            "set()\n"
          ]
        }
      ]
    },
    {
      "cell_type": "code",
      "source": [
        "#18. Write a code to remove the element 4 from the set {1, 2, 3, 4}.\n",
        "\n",
        "my_set = {1,2,3,4}\n",
        "my_set.remove(4)\n",
        "print(my_set)"
      ],
      "metadata": {
        "colab": {
          "base_uri": "https://localhost:8080/"
        },
        "id": "rII-F6M5_8UB",
        "outputId": "4d673d05-b7cf-497e-a058-69a2acd71269"
      },
      "execution_count": 54,
      "outputs": [
        {
          "output_type": "stream",
          "name": "stdout",
          "text": [
            "{1, 2, 3}\n"
          ]
        }
      ]
    },
    {
      "cell_type": "code",
      "source": [
        "#19. Write a code to find the union of two sets {1, 2, 3} and {3, 4, 5}.\n",
        "\n",
        "set1 = {1,2,3}\n",
        "set2 = {3,4,5}\n",
        "union_set = set1.union(set2)\n",
        "print(union_set)"
      ],
      "metadata": {
        "colab": {
          "base_uri": "https://localhost:8080/"
        },
        "id": "czytcIcTAK_z",
        "outputId": "1f1d2213-7be2-4c73-8635-5be99edefb7a"
      },
      "execution_count": 56,
      "outputs": [
        {
          "output_type": "stream",
          "name": "stdout",
          "text": [
            "{1, 2, 3, 4, 5}\n"
          ]
        }
      ]
    },
    {
      "cell_type": "code",
      "source": [
        "#20. Write a code to find the intersection of two sets {1, 2, 3} and {2, 3, 4}\n",
        "\n",
        "set1 = {1,2,3}\n",
        "set2 = {2,3,4}\n",
        "intersection_set = set1.intersection(set2)\n",
        "print(intersection_set)"
      ],
      "metadata": {
        "colab": {
          "base_uri": "https://localhost:8080/"
        },
        "id": "A3TK3RYZAcQP",
        "outputId": "16beb908-a9f3-4449-c5b7-b82a0d94b16b"
      },
      "execution_count": 58,
      "outputs": [
        {
          "output_type": "stream",
          "name": "stdout",
          "text": [
            "{2, 3}\n"
          ]
        }
      ]
    },
    {
      "cell_type": "code",
      "source": [
        "#21. Write a code to create a dictionary with the keys \"name\", \"age\", and \"city\", and print it.\n",
        "\n",
        "my_dict = {\"name\": \"Saaransh\", \"age\": 29, \"city\": \"New Delhi\"}\n",
        "print(my_dict)"
      ],
      "metadata": {
        "colab": {
          "base_uri": "https://localhost:8080/"
        },
        "id": "3CRxs7TqAtU5",
        "outputId": "629a7009-1820-472e-b37d-1d523a67500f"
      },
      "execution_count": 60,
      "outputs": [
        {
          "output_type": "stream",
          "name": "stdout",
          "text": [
            "{'name': 'Saaransh', 'age': 29, 'city': 'New Delhi'}\n"
          ]
        }
      ]
    },
    {
      "cell_type": "code",
      "source": [
        "#22. Write a code to add a new key-value pair \"country\": \"USA\" to the dictionary {'name': 'John', 'age': 25}\n",
        "\n",
        "my_dict = {'name': 'John', 'age': 25}\n",
        "my_dict['country'] = 'USA'\n",
        "print(my_dict)"
      ],
      "metadata": {
        "colab": {
          "base_uri": "https://localhost:8080/"
        },
        "id": "q7PTqNTWA9K6",
        "outputId": "c1fe6052-1c31-4fde-ec6c-57e8a46820c8"
      },
      "execution_count": 62,
      "outputs": [
        {
          "output_type": "stream",
          "name": "stdout",
          "text": [
            "{'name': 'John', 'age': 25, 'country': 'USA'}\n"
          ]
        }
      ]
    },
    {
      "cell_type": "code",
      "source": [
        "#23. Write a code to access the value associated with the key \"name\" in the dictionary {'name': 'Alice', 'age': 30}\n",
        "\n",
        "my_dict = {'name': 'Alice', 'age': 30}\n",
        "print(my_dict['name'])"
      ],
      "metadata": {
        "colab": {
          "base_uri": "https://localhost:8080/"
        },
        "id": "2oDvg1UnBNAn",
        "outputId": "7b07981f-b0e1-42b9-e6c1-a3c94858b79a"
      },
      "execution_count": 64,
      "outputs": [
        {
          "output_type": "stream",
          "name": "stdout",
          "text": [
            "Alice\n"
          ]
        }
      ]
    },
    {
      "cell_type": "code",
      "source": [
        "#24. Write a code to remove the key \"age\" from the dictionary {'name': 'Bob', 'age': 22, 'city': 'New York'}.\n",
        "\n",
        "my_dict = {'name': 'Bob', 'age': 22, 'city': 'New York'}\n",
        "del my_dict['age']\n",
        "print(my_dict)"
      ],
      "metadata": {
        "colab": {
          "base_uri": "https://localhost:8080/"
        },
        "id": "arpbW98jBj7u",
        "outputId": "52751a3f-dbf5-4f4d-9b7c-78b37adcc00e"
      },
      "execution_count": 66,
      "outputs": [
        {
          "output_type": "stream",
          "name": "stdout",
          "text": [
            "{'name': 'Bob', 'city': 'New York'}\n"
          ]
        }
      ]
    },
    {
      "cell_type": "code",
      "source": [
        "#25. Write a code to check if the key \"city\" exists in the dictionary {'name': 'Alice', 'city': 'Paris'}.\n",
        "\n",
        "my_dict = {'name': 'Alice', 'city': 'Paris'}\n",
        "if 'city' in my_dict:\n",
        "    print(\"The key 'city' exists in the dictionary.\")\n",
        "else:\n",
        "    print(\"The key 'city' does not exist in the dictionary.\")"
      ],
      "metadata": {
        "colab": {
          "base_uri": "https://localhost:8080/"
        },
        "id": "XNO6H88UBqfY",
        "outputId": "61377803-a86e-46dd-e74b-a870f5b1f0c6"
      },
      "execution_count": 68,
      "outputs": [
        {
          "output_type": "stream",
          "name": "stdout",
          "text": [
            "The key 'city' exists in the dictionary.\n"
          ]
        }
      ]
    },
    {
      "cell_type": "code",
      "source": [
        "#26. Write a code to create a list, a tuple, and a dictionary, and print them all.\n",
        "\n",
        "my_list = [1,2,3,4,5]\n",
        "my_tuple = (1,2,3,4,5)\n",
        "my_dict = {name: \"Saaransh\", age: 29, city: \"New Delhi\"}"
      ],
      "metadata": {
        "colab": {
          "base_uri": "https://localhost:8080/",
          "height": 183
        },
        "id": "iShXRCFmB3kY",
        "outputId": "a5dd7952-ade4-411c-fb78-0c3fd2964183"
      },
      "execution_count": 70,
      "outputs": [
        {
          "output_type": "error",
          "ename": "NameError",
          "evalue": "name 'age' is not defined",
          "traceback": [
            "\u001b[0;31m---------------------------------------------------------------------------\u001b[0m",
            "\u001b[0;31mNameError\u001b[0m                                 Traceback (most recent call last)",
            "\u001b[0;32m/tmp/ipython-input-1626132084.py\u001b[0m in \u001b[0;36m<cell line: 0>\u001b[0;34m()\u001b[0m\n\u001b[1;32m      3\u001b[0m \u001b[0mmy_list\u001b[0m \u001b[0;34m=\u001b[0m \u001b[0;34m[\u001b[0m\u001b[0;36m1\u001b[0m\u001b[0;34m,\u001b[0m\u001b[0;36m2\u001b[0m\u001b[0;34m,\u001b[0m\u001b[0;36m3\u001b[0m\u001b[0;34m,\u001b[0m\u001b[0;36m4\u001b[0m\u001b[0;34m,\u001b[0m\u001b[0;36m5\u001b[0m\u001b[0;34m]\u001b[0m\u001b[0;34m\u001b[0m\u001b[0;34m\u001b[0m\u001b[0m\n\u001b[1;32m      4\u001b[0m \u001b[0mmy_tuple\u001b[0m \u001b[0;34m=\u001b[0m \u001b[0;34m(\u001b[0m\u001b[0;36m1\u001b[0m\u001b[0;34m,\u001b[0m\u001b[0;36m2\u001b[0m\u001b[0;34m,\u001b[0m\u001b[0;36m3\u001b[0m\u001b[0;34m,\u001b[0m\u001b[0;36m4\u001b[0m\u001b[0;34m,\u001b[0m\u001b[0;36m5\u001b[0m\u001b[0;34m)\u001b[0m\u001b[0;34m\u001b[0m\u001b[0;34m\u001b[0m\u001b[0m\n\u001b[0;32m----> 5\u001b[0;31m \u001b[0mmy_dict\u001b[0m \u001b[0;34m=\u001b[0m \u001b[0;34m{\u001b[0m\u001b[0mname\u001b[0m\u001b[0;34m:\u001b[0m \u001b[0;34m\"Saaransh\"\u001b[0m\u001b[0;34m,\u001b[0m \u001b[0mage\u001b[0m\u001b[0;34m:\u001b[0m \u001b[0;36m29\u001b[0m\u001b[0;34m,\u001b[0m \u001b[0mcity\u001b[0m\u001b[0;34m:\u001b[0m \u001b[0;34m\"New Delhi\"\u001b[0m\u001b[0;34m}\u001b[0m\u001b[0;34m\u001b[0m\u001b[0;34m\u001b[0m\u001b[0m\n\u001b[0m",
            "\u001b[0;31mNameError\u001b[0m: name 'age' is not defined"
          ]
        }
      ]
    },
    {
      "cell_type": "code",
      "source": [
        "#27. Write a code to create a list of 5 random numbers between 1 and 100, sort it in ascending order, and print the result.(replaced)\n",
        "\n",
        "import random\n",
        "random_numbers = [random.randint(1, 100) for _ in range(5)]\n",
        "random_numbers.sort()\n",
        "print(random_numbers)"
      ],
      "metadata": {
        "colab": {
          "base_uri": "https://localhost:8080/"
        },
        "id": "YQe8tDQQCC5R",
        "outputId": "7610ee31-be76-4f70-b7f9-a805f0c19abe"
      },
      "execution_count": 72,
      "outputs": [
        {
          "output_type": "stream",
          "name": "stdout",
          "text": [
            "[37, 60, 61, 74, 81]\n"
          ]
        }
      ]
    },
    {
      "cell_type": "code",
      "source": [
        "#28. Write a code to create a list with strings and print the element at the third index.\n",
        "\n",
        "my_list = [\"apple\", \"banana\", \"cherry\", \"date\", \"elderberry\"]\n",
        "print(my_list[3])"
      ],
      "metadata": {
        "colab": {
          "base_uri": "https://localhost:8080/"
        },
        "id": "K7C2oGZxCcI2",
        "outputId": "6309fa45-dce8-4f54-81a7-ff09ed50dc1c"
      },
      "execution_count": 74,
      "outputs": [
        {
          "output_type": "stream",
          "name": "stdout",
          "text": [
            "date\n"
          ]
        }
      ]
    },
    {
      "cell_type": "code",
      "source": [
        "#29. Write a code to combine two dictionaries into one and print the result.\n",
        "\n",
        "dict1 = {'a': 1, b: 2}\n",
        "dict2 = {c: 3, d: 4}\n",
        "combined_dict = {**dict1, **dict2}\n",
        "print(combined_dict)"
      ],
      "metadata": {
        "colab": {
          "base_uri": "https://localhost:8080/",
          "height": 219
        },
        "id": "lBaLNbRRC8dv",
        "outputId": "151a54c6-7e5e-4529-e865-d82d82057553"
      },
      "execution_count": 77,
      "outputs": [
        {
          "output_type": "error",
          "ename": "NameError",
          "evalue": "name 'b' is not defined",
          "traceback": [
            "\u001b[0;31m---------------------------------------------------------------------------\u001b[0m",
            "\u001b[0;31mNameError\u001b[0m                                 Traceback (most recent call last)",
            "\u001b[0;32m/tmp/ipython-input-1456372868.py\u001b[0m in \u001b[0;36m<cell line: 0>\u001b[0;34m()\u001b[0m\n\u001b[1;32m      1\u001b[0m \u001b[0;31m#29. Write a code to combine two dictionaries into one and print the result.\u001b[0m\u001b[0;34m\u001b[0m\u001b[0;34m\u001b[0m\u001b[0m\n\u001b[1;32m      2\u001b[0m \u001b[0;34m\u001b[0m\u001b[0m\n\u001b[0;32m----> 3\u001b[0;31m \u001b[0mdict1\u001b[0m \u001b[0;34m=\u001b[0m \u001b[0;34m{\u001b[0m\u001b[0;34m'a'\u001b[0m\u001b[0;34m:\u001b[0m \u001b[0;36m1\u001b[0m\u001b[0;34m,\u001b[0m \u001b[0mb\u001b[0m\u001b[0;34m:\u001b[0m \u001b[0;36m2\u001b[0m\u001b[0;34m}\u001b[0m\u001b[0;34m\u001b[0m\u001b[0;34m\u001b[0m\u001b[0m\n\u001b[0m\u001b[1;32m      4\u001b[0m \u001b[0mdict2\u001b[0m \u001b[0;34m=\u001b[0m \u001b[0;34m{\u001b[0m\u001b[0mc\u001b[0m\u001b[0;34m:\u001b[0m \u001b[0;36m3\u001b[0m\u001b[0;34m,\u001b[0m \u001b[0md\u001b[0m\u001b[0;34m:\u001b[0m \u001b[0;36m4\u001b[0m\u001b[0;34m}\u001b[0m\u001b[0;34m\u001b[0m\u001b[0;34m\u001b[0m\u001b[0m\n\u001b[1;32m      5\u001b[0m \u001b[0mcombined_dict\u001b[0m \u001b[0;34m=\u001b[0m \u001b[0;34m{\u001b[0m\u001b[0;34m**\u001b[0m\u001b[0mdict1\u001b[0m\u001b[0;34m,\u001b[0m \u001b[0;34m**\u001b[0m\u001b[0mdict2\u001b[0m\u001b[0;34m}\u001b[0m\u001b[0;34m\u001b[0m\u001b[0;34m\u001b[0m\u001b[0m\n",
            "\u001b[0;31mNameError\u001b[0m: name 'b' is not defined"
          ]
        }
      ]
    },
    {
      "cell_type": "code",
      "source": [
        "#30. Write a code to convert a list of strings into a set.\n",
        "\n",
        "my_list = [\"kiwi\", \"cream\", \"serum\", \"banana\", \"tissues\"]\n",
        "my_set = set(my_list)\n",
        "print(my_set)"
      ],
      "metadata": {
        "colab": {
          "base_uri": "https://localhost:8080/"
        },
        "id": "CzsoBw8GDNvG",
        "outputId": "613fdc72-64f4-4ced-dac6-9287d24c62a1"
      },
      "execution_count": 78,
      "outputs": [
        {
          "output_type": "stream",
          "name": "stdout",
          "text": [
            "{'derum', 'tissues', 'cream', 'banana', 'kiwi'}\n"
          ]
        }
      ]
    }
  ]
}